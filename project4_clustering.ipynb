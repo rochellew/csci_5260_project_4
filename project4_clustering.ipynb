{
 "cells": [
  {
   "cell_type": "markdown",
   "id": "e7ee477f",
   "metadata": {},
   "source": [
    "# Part 1: Unsupervised Learning with K-Means\n",
    "\n",
    "## Imports"
   ]
  },
  {
   "cell_type": "code",
   "execution_count": 6,
   "id": "8ce3c612",
   "metadata": {},
   "outputs": [],
   "source": [
    "import matplotlib.pyplot as plt\n",
    "import pandas as pd\n",
    "from prettytable import PrettyTable\n",
    "from sklearn.cluster import KMeans\n",
    "from sklearn.metrics import adjusted_rand_score, normalized_mutual_info_score\n",
    "from sklearn.preprocessing import StandardScaler"
   ]
  },
  {
   "cell_type": "markdown",
   "id": "57fa72cc",
   "metadata": {},
   "source": [
    "## Setting up Data Frames"
   ]
  },
  {
   "cell_type": "code",
   "execution_count": 7,
   "id": "12312be0",
   "metadata": {},
   "outputs": [],
   "source": [
    "df_red = pd.read_csv(\"./winequality-red.csv\")\n",
    "df_white = pd.read_csv(\"./winequality-white.csv\")"
   ]
  },
  {
   "cell_type": "markdown",
   "id": "23c4d693",
   "metadata": {},
   "source": [
    "## Method to Perform Initial K-Means Clustering"
   ]
  },
  {
   "cell_type": "code",
   "execution_count": 8,
   "id": "a7601c3f",
   "metadata": {},
   "outputs": [],
   "source": [
    "def wine_kmeans(df_winetype, wine_name = \"WINE\"):\n",
    "    \n",
    "    print(df_winetype['quality'].value_counts().sort_index())\n",
    "    \n",
    "    target_color = df_winetype[\"quality\"]\n",
    "    df_winetype = df_winetype.drop(columns=[\"quality\"])\n",
    "    \n",
    "    wine_scaled = StandardScaler().fit_transform(df_winetype)\n",
    "\n",
    "    kmeans_results = KMeans(n_clusters = 11).fit(wine_scaled)\n",
    "\n",
    "    centers = kmeans_results.cluster_centers_\n",
    "    labels = kmeans_results.labels_\n",
    "    inertia = kmeans_results.inertia_\n",
    "    n_iter = kmeans_results.n_iter_\n",
    "\n",
    "    ari = adjusted_rand_score(target_color, labels)\n",
    "    nmi = normalized_mutual_info_score(target_color, labels)\n",
    "\n",
    "    ct = pd.crosstab(target_color, labels, rownames=[\"quality\"], colnames=[\"cluster\"])\n",
    "\n",
    "    table = PrettyTable()\n",
    "    table.title = f\"{wine_name} K-Means Results\"\n",
    "    table.field_names = [\"Metric\", \"Value\"]\n",
    "    \n",
    "    table.add_row([\"Centers shape\", centers.shape])\n",
    "    table.add_row([\"Labels shape\", labels.shape])\n",
    "    table.add_row([\"Inertia\", f\"{inertia:.2f}\"])\n",
    "    table.add_row([\"Iterations\", n_iter])\n",
    "    table.add_row([\"ARI\", f\"{ari:.3f}\"])\n",
    "    table.add_row([\"NMI\", f\"{nmi:.3f}\"])\n",
    "    \n",
    "    return labels, table, ct"
   ]
  },
  {
   "cell_type": "markdown",
   "id": "f32744b0",
   "metadata": {},
   "source": [
    "## K-Means for Red Wine"
   ]
  },
  {
   "cell_type": "code",
   "execution_count": 9,
   "id": "437d6c39",
   "metadata": {},
   "outputs": [
    {
     "name": "stdout",
     "output_type": "stream",
     "text": [
      "quality\n",
      "3     10\n",
      "4     53\n",
      "5    681\n",
      "6    638\n",
      "7    199\n",
      "8     18\n",
      "Name: count, dtype: int64\n",
      "+--------------------------+\n",
      "| Red Wine K-Means Results |\n",
      "+---------------+----------+\n",
      "|     Metric    |  Value   |\n",
      "+---------------+----------+\n",
      "| Centers shape | (11, 11) |\n",
      "|  Labels shape | (1599,)  |\n",
      "|    Inertia    | 7496.01  |\n",
      "|   Iterations  |    24    |\n",
      "|      ARI      |  0.048   |\n",
      "|      NMI      |  0.108   |\n",
      "+---------------+----------+\n",
      "cluster   0   1    2   3   4    5   6   7   8   9    10\n",
      "quality                                                \n",
      "3          5   0    2   0   0    0   0   0   1   0    2\n",
      "4         19   1   16   4   2    0   3   1   3   1    3\n",
      "5        142  13  109  90   9  159  25  15  40  16   63\n",
      "6        108   5   49  93  88   29  61  12  83   6  104\n",
      "7         17   1    1   8  80    0  22   5  21   1   43\n",
      "8          0   0    0   1   8    0   4   0   1   0    4\n"
     ]
    }
   ],
   "source": [
    "red_kmeans = wine_kmeans(df_red, \"Red Wine\")\n",
    "print(red_kmeans[1])\n",
    "print(red_kmeans[2])"
   ]
  },
  {
   "cell_type": "markdown",
   "id": "53779c56",
   "metadata": {},
   "source": [
    "## K-Means for White Wine"
   ]
  },
  {
   "cell_type": "code",
   "execution_count": 10,
   "id": "e78e7c18",
   "metadata": {},
   "outputs": [
    {
     "name": "stdout",
     "output_type": "stream",
     "text": [
      "quality\n",
      "3      20\n",
      "4     163\n",
      "5    1457\n",
      "6    2198\n",
      "7     880\n",
      "8     175\n",
      "9       5\n",
      "Name: count, dtype: int64\n",
      "+----------------------------+\n",
      "| White Wine K-Means Results |\n",
      "+----------------+-----------+\n",
      "|     Metric     |   Value   |\n",
      "+----------------+-----------+\n",
      "| Centers shape  |  (11, 11) |\n",
      "|  Labels shape  |  (4898,)  |\n",
      "|    Inertia     |  26811.43 |\n",
      "|   Iterations   |     23    |\n",
      "|      ARI       |   0.025   |\n",
      "|      NMI       |   0.068   |\n",
      "+----------------+-----------+\n",
      "cluster   0    1    2    3    4    5    6   7    8    9    10\n",
      "quality                                                      \n",
      "3          2    4    0    6    0    0    2   1    2    3    0\n",
      "4          8   40    2   10    5   11   12   3   49    9   14\n",
      "5        180  201  134  276   45  147   34  46  203  101   90\n",
      "6        237  265  288  239  178  106  264  46   84  296  195\n",
      "7         64   90  107   26  151   14  242   2   11  119   54\n",
      "8         12    8   27    8   36    4   53   2    3   15    7\n",
      "9          0    1    0    0    0    0    4   0    0    0    0\n"
     ]
    }
   ],
   "source": [
    "white_kmeans = wine_kmeans(df_white, \"White Wine\")\n",
    "print(white_kmeans[1])\n",
    "print(white_kmeans[2])"
   ]
  },
  {
   "cell_type": "markdown",
   "id": "32f850cb",
   "metadata": {},
   "source": [
    "## Method to Calculate Average Quality for Clusters"
   ]
  },
  {
   "cell_type": "code",
   "execution_count": 11,
   "id": "0080b8b7",
   "metadata": {},
   "outputs": [],
   "source": [
    "def avg_quality(df_winetype, labels):\n",
    "    df_copy = df_winetype.copy()\n",
    "    df_copy['cluster'] = labels\n",
    "\n",
    "    cluster_quality_avg = df_copy.groupby('cluster')['quality'].mean().reset_index()\n",
    "    cluster_quality_avg.columns = ['cluster', 'avg_quality']\n",
    "    \n",
    "    return cluster_quality_avg"
   ]
  },
  {
   "cell_type": "markdown",
   "id": "768f46e7",
   "metadata": {},
   "source": [
    "## Average Quality for Clusters (Red Wine)"
   ]
  },
  {
   "cell_type": "code",
   "execution_count": 12,
   "id": "fca9a484",
   "metadata": {},
   "outputs": [
    {
     "name": "stdout",
     "output_type": "stream",
     "text": [
      "    cluster  avg_quality\n",
      "0         0     5.388316\n",
      "1         1     5.300000\n",
      "2         2     5.175141\n",
      "3         3     5.551020\n",
      "4         4     6.443850\n",
      "5         5     5.154255\n",
      "6         6     5.991304\n",
      "7         7     5.636364\n",
      "8         8     5.825503\n",
      "9         9     5.291667\n",
      "10       10     5.890411\n"
     ]
    }
   ],
   "source": [
    "avg_red_df = avg_quality(df_red, red_kmeans[0])\n",
    "print(avg_red_df)"
   ]
  },
  {
   "cell_type": "markdown",
   "id": "03e83e59",
   "metadata": {},
   "source": [
    "## Average Quality for Clusters (White Wine)"
   ]
  },
  {
   "cell_type": "code",
   "execution_count": 13,
   "id": "f022b0b4",
   "metadata": {},
   "outputs": [
    {
     "name": "stdout",
     "output_type": "stream",
     "text": [
      "    cluster  avg_quality\n",
      "0         0     5.773360\n",
      "1         1     5.697865\n",
      "2         2     6.041219\n",
      "3         3     5.518584\n",
      "4         4     6.404819\n",
      "5         5     5.478723\n",
      "6         6     6.484452\n",
      "7         7     5.510000\n",
      "8         8     5.176136\n",
      "9         9     6.038674\n",
      "10       10     5.861111\n"
     ]
    }
   ],
   "source": [
    "avg_white_df = avg_quality(df_white, white_kmeans[0])\n",
    "print(avg_white_df)"
   ]
  },
  {
   "cell_type": "markdown",
   "id": "0bf0b092",
   "metadata": {},
   "source": [
    "## Function to Plot Average Quality from Previous Steps"
   ]
  },
  {
   "cell_type": "code",
   "execution_count": 14,
   "id": "2a8964ad",
   "metadata": {},
   "outputs": [],
   "source": [
    "def plot_quality(avg_winetype_df, name = \"WINE\"):\n",
    "    \n",
    "    if name.lower() == \"red wine\":\n",
    "        bar_color = \"#4a0720\"\n",
    "    elif name.lower() == \"white wine\":\n",
    "        bar_color = \"#4b5c3b\"\n",
    "    else:\n",
    "        bar_color = \"skyblue\"\n",
    "    \n",
    "    plt.figure(figsize=(8,5))\n",
    "    plt.bar(avg_winetype_df['cluster'], avg_winetype_df['avg_quality'], color=bar_color, edgecolor=\"black\")\n",
    "    plt.xlabel(\"Cluster\")\n",
    "    plt.ylabel(\"Averge Quality\")\n",
    "    plt.title(f\"Avg Quality per Cluster: {name}\")\n",
    "    plt.xticks(avg_winetype_df['cluster'])\n",
    "    plt.ylim(avg_winetype_df['avg_quality'].min() - 0.5, avg_winetype_df['avg_quality'].max() + 0.5)\n",
    "    \n",
    "    plt.show()"
   ]
  },
  {
   "cell_type": "markdown",
   "id": "3c772eca",
   "metadata": {},
   "source": [
    "## Average Quality Plot (Red Wine)"
   ]
  },
  {
   "cell_type": "code",
   "execution_count": 15,
   "id": "f7fbd85a",
   "metadata": {},
   "outputs": [
    {
     "data": {
      "image/png": "[encoded data removed]",
      "text/plain": [
       "<Figure size 800x500 with 1 Axes>"
      ]
     },
     "metadata": {},
     "output_type": "display_data"
    }
   ],
   "source": [
    "plot_quality(avg_red_df, \"Red Wine\")"
   ]
  },
  {
   "cell_type": "markdown",
   "id": "1d52740b",
   "metadata": {},
   "source": [
    "## Average Quality Plot (White Wine)"
   ]
  },
  {
   "cell_type": "code",
   "execution_count": 17,
   "id": "8ecebde7",
   "metadata": {},
   "outputs": [
    {
     "data": {
      "image/png": "[encoded data removed]",
      "text/plain": [
       "<Figure size 800x500 with 1 Axes>"
      ]
     },
     "metadata": {},
     "output_type": "display_data"
    }
   ],
   "source": [
    "plot_quality(avg_white_df, \"White Wine\")"
   ]
  }
 ],
 "metadata": {
  "kernelspec": {
   "display_name": "base",
   "language": "python",
   "name": "python3"
  },
  "language_info": {
   "codemirror_mode": {
    "name": "ipython",
    "version": 3
   },
   "file_extension": ".py",
   "mimetype": "text/x-python",
   "name": "python",
   "nbconvert_exporter": "python",
   "pygments_lexer": "ipython3",
   "version": "3.10.18"
  }
 },
 "nbformat": 4,
 "nbformat_minor": 5
}
